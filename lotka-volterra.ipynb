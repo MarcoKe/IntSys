{
 "cells": [
  {
   "cell_type": "markdown",
   "metadata": {},
   "source": [
    "I think the pseudo-code provided is completely retarded. \n",
    "We stop when the range of change of either species is below a certain threshold. First, using the absolute values of the rate of change seems to make way more sense. Second, just because the rate of change is very low at a certain point, doesn't mean it stays that way indefinitely. This is nicely illustrated by the plot they put right above the pseudo-code. \n",
    "\n",
    "The \"good starting point for the parameter values\" also isn't very interesting when using the provided pseudo-code. With the modified version below, the parameters show a nice co-existence, however. "
   ]
  },
  {
   "cell_type": "code",
   "execution_count": 38,
   "metadata": {
    "collapsed": false
   },
   "outputs": [
    {
     "name": "stdout",
     "output_type": "stream",
     "text": [
      "151\n"
     ]
    }
   ],
   "source": [
    "DeltaT = 0.1\n",
    "a = 1.0\n",
    "b = 0.1\n",
    "c = 0.5\n",
    "d = 0.01\n",
    "\n",
    "x = [80.0]\n",
    "y = [40.0]\n",
    "DeltaX = 1.0\n",
    "DeltaY = 1.0\n",
    "\n",
    "t = 0\n",
    "#while abs(DeltaX) > 0.01 and abs(DeltaY) > 0.01:\n",
    "while t<150:\n",
    "    DeltaX = x[-1] * (a - b * y[-1]) * DeltaT\n",
    "    DeltaY = -y[-1] * (c - d * x[-1]) * DeltaT\n",
    "    \n",
    "    x.append(x[-1] + DeltaX)\n",
    "    y.append(y[-1] + DeltaY)\n",
    "    t += 1\n",
    "    \n",
    "    \n",
    "print (len(x))"
   ]
  },
  {
   "cell_type": "code",
   "execution_count": 39,
   "metadata": {
    "collapsed": false
   },
   "outputs": [
    {
     "data": {
      "text/plain": [
       "[<matplotlib.lines.Line2D at 0x7ffb2f500090>]"
      ]
     },
     "execution_count": 39,
     "metadata": {},
     "output_type": "execute_result"
    },
    {
     "data": {
      "image/png": "[encoded data removed]",
      "text/plain": [
       "<matplotlib.figure.Figure at 0x7ffb2f500810>"
      ]
     },
     "metadata": {},
     "output_type": "display_data"
    }
   ],
   "source": [
    "%matplotlib inline  \n",
    "import matplotlib.pyplot as plt\n",
    "plt.plot(x)\n",
    "plt.plot(y)\n"
   ]
  },
  {
   "cell_type": "code",
   "execution_count": null,
   "metadata": {
    "collapsed": false
   },
   "outputs": [],
   "source": []
  },
  {
   "cell_type": "code",
   "execution_count": null,
   "metadata": {
    "collapsed": true
   },
   "outputs": [],
   "source": []
  }
 ],
 "metadata": {
  "kernelspec": {
   "display_name": "Python 2",
   "language": "python",
   "name": "python2"
  },
  "language_info": {
   "codemirror_mode": {
    "name": "ipython",
    "version": 2
   },
   "file_extension": ".py",
   "mimetype": "text/x-python",
   "name": "python",
   "nbconvert_exporter": "python",
   "pygments_lexer": "ipython2",
   "version": "2.7.11"
  }
 },
 "nbformat": 4,
 "nbformat_minor": 0
}
